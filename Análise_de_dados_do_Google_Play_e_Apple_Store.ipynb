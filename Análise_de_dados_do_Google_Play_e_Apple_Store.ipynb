{
  "nbformat": 4,
  "nbformat_minor": 0,
  "metadata": {
    "colab": {
      "name": "(1)Análise_de_dados_do_Google_Play_e_Apple_Store.ipynb",
      "version": "0.3.2",
      "provenance": [],
      "collapsed_sections": [
        "XKPJbKOdrgyo",
        "XkhX4944p2PC",
        "FkpnBNNbrzwa",
        "gAC6SQ1F2TlX",
        "5w7a2GMKru_M",
        "vFM_zTszr681",
        "Yx3e6jcOsJpZ",
        "Ys7tqeHImPBX",
        "143nBKLdkn9f",
        "BZStB7fe-Mlc",
        "y4JmVPR2q2-I"
      ]
    },
    "kernelspec": {
      "name": "python3",
      "display_name": "Python 3"
    },
    "accelerator": "GPU"
  },
  "cells": [
    {
      "metadata": {
        "id": "7bityHFd1HU4",
        "colab_type": "text"
      },
      "cell_type": "markdown",
      "source": [
        "#Análise de dados do Google Play e Apple Store"
      ]
    },
    {
      "metadata": {
        "id": "XKPJbKOdrgyo",
        "colab_type": "text"
      },
      "cell_type": "markdown",
      "source": [
        "##Autores"
      ]
    },
    {
      "metadata": {
        "id": "-qmRWPb31Vet",
        "colab_type": "text"
      },
      "cell_type": "markdown",
      "source": [
        "Alice Soares Pereira de Barros;\n",
        "\n",
        "Vinicius Santos Silva de Lima."
      ]
    },
    {
      "metadata": {
        "id": "XkhX4944p2PC",
        "colab_type": "text"
      },
      "cell_type": "markdown",
      "source": [
        "##Introdução"
      ]
    },
    {
      "metadata": {
        "id": "FkpnBNNbrzwa",
        "colab_type": "text"
      },
      "cell_type": "markdown",
      "source": [
        "###Sobre"
      ]
    },
    {
      "metadata": {
        "id": "ItZd9WP72T8l",
        "colab_type": "text"
      },
      "cell_type": "markdown",
      "source": [
        "Esse projeto é sobre um programa que faz uma análise de dados sobre aplicativos da Google Play e Apple Store. \n",
        "\n",
        "O programa é feito todo em python 3 usando a ferramenta Colaboratory. "
      ]
    },
    {
      "metadata": {
        "id": "gAC6SQ1F2TlX",
        "colab_type": "text"
      },
      "cell_type": "markdown",
      "source": [
        "###Objetivo"
      ]
    },
    {
      "metadata": {
        "id": "KPagkDdX2Wy_",
        "colab_type": "text"
      },
      "cell_type": "markdown",
      "source": [
        "O objetivo é limpar os dados recebidos da Google play e da Apple store e identificar qual o tipo de aplicativo gratuito e em inglês é mais comum. "
      ]
    },
    {
      "metadata": {
        "id": "5w7a2GMKru_M",
        "colab_type": "text"
      },
      "cell_type": "markdown",
      "source": [
        "##Explorando dados"
      ]
    },
    {
      "metadata": {
        "id": "DKzj09YbnmZc",
        "colab_type": "text"
      },
      "cell_type": "markdown",
      "source": [
        "Primeiramente abrimos os arquivos que tem os dados:"
      ]
    },
    {
      "metadata": {
        "id": "jQlnX2aVxSms",
        "colab_type": "code",
        "colab": {}
      },
      "cell_type": "code",
      "source": [
        "from csv import reader\n",
        "\n",
        "opened_file = open('AppleStore.csv')\n",
        "read_file = reader(opened_file)\n",
        "apps_data_apple = list(read_file)\n",
        "\n",
        "opened_file = open('googleplaystore.csv')\n",
        "read_file = reader(opened_file)\n",
        "apps_data_google = list(read_file)"
      ],
      "execution_count": 0,
      "outputs": []
    },
    {
      "metadata": {
        "id": "5lRV-MbDn4FV",
        "colab_type": "text"
      },
      "cell_type": "markdown",
      "source": [
        "A função abaixo imprime informações dos arquivos e de linhas e colunas."
      ]
    },
    {
      "metadata": {
        "id": "wvT86APWn4hV",
        "colab_type": "code",
        "colab": {}
      },
      "cell_type": "code",
      "source": [
        "def explore_data(dataset, start, end, rows_and_columns=False):\n",
        "    dataset_slice = dataset[start:end]    \n",
        "    for row in dataset_slice:\n",
        "        print(row)\n",
        "        print('\\n') # adds a new (empty) line after each row\n",
        "\n",
        "    if rows_and_columns:\n",
        "        print('Number of rows:', len(dataset))\n",
        "        print('Number of columns:', len(dataset[0]))"
      ],
      "execution_count": 0,
      "outputs": []
    },
    {
      "metadata": {
        "id": "tacHmCq0o3XW",
        "colab_type": "text"
      },
      "cell_type": "markdown",
      "source": [
        "Exemplo com os dados da Google:"
      ]
    },
    {
      "metadata": {
        "id": "HWT-CA7wopac",
        "colab_type": "code",
        "outputId": "38d4e0bd-084a-4d2d-ad4f-66521a5ec658",
        "colab": {
          "base_uri": "https://localhost:8080/",
          "height": 181
        }
      },
      "cell_type": "code",
      "source": [
        "explore_data(apps_data_google, 1, 3, True)"
      ],
      "execution_count": 0,
      "outputs": [
        {
          "output_type": "stream",
          "text": [
            "['Photo Editor & Candy Camera & Grid & ScrapBook', 'ART_AND_DESIGN', '4.1', '159', '19M', '10,000+', 'Free', '0', 'Everyone', 'Art & Design', 'January 7, 2018', '1.0.0', '4.0.3 and up']\n",
            "\n",
            "\n",
            "['Coloring book moana', 'ART_AND_DESIGN', '3.9', '967', '14M', '500,000+', 'Free', '0', 'Everyone', 'Art & Design;Pretend Play', 'January 15, 2018', '2.0.0', '4.0.3 and up']\n",
            "\n",
            "\n",
            "Number of rows: 10842\n",
            "Number of columns: 13\n"
          ],
          "name": "stdout"
        }
      ]
    },
    {
      "metadata": {
        "id": "2o61jP2co438",
        "colab_type": "text"
      },
      "cell_type": "markdown",
      "source": [
        "Exemplo com os dados da Apple:"
      ]
    },
    {
      "metadata": {
        "id": "ohBWLUZEo4ak",
        "colab_type": "code",
        "outputId": "9a492f32-d12c-47e5-c366-b2aa9963f9e3",
        "colab": {
          "base_uri": "https://localhost:8080/",
          "height": 181
        }
      },
      "cell_type": "code",
      "source": [
        "explore_data(apps_data_apple, 1, 3, True)"
      ],
      "execution_count": 0,
      "outputs": [
        {
          "output_type": "stream",
          "text": [
            "['284882215', 'Facebook', '389879808', 'USD', '0.0', '2974676', '212', '3.5', '3.5', '95.0', '4+', 'Social Networking', '37', '1', '29', '1']\n",
            "\n",
            "\n",
            "['389801252', 'Instagram', '113954816', 'USD', '0.0', '2161558', '1289', '4.5', '4.0', '10.23', '12+', 'Photo & Video', '37', '0', '29', '1']\n",
            "\n",
            "\n",
            "Number of rows: 7198\n",
            "Number of columns: 16\n"
          ],
          "name": "stdout"
        }
      ]
    },
    {
      "metadata": {
        "id": "vFM_zTszr681",
        "colab_type": "text"
      },
      "cell_type": "markdown",
      "source": [
        "##Removendo duplicações da Google play"
      ]
    },
    {
      "metadata": {
        "id": "cHLG19aw9d8h",
        "colab_type": "text"
      },
      "cell_type": "markdown",
      "source": [
        "Agora perceba que alguns apps da Google play estão duplicados: "
      ]
    },
    {
      "metadata": {
        "id": "NK50x1ssqN31",
        "colab_type": "code",
        "outputId": "219d8fc1-f937-4d10-d74a-5fb189e99dc1",
        "colab": {
          "base_uri": "https://localhost:8080/",
          "height": 109
        }
      },
      "cell_type": "code",
      "source": [
        "for app in apps_data_google:\n",
        "    name = app[0]\n",
        "    if name == \"Instagram\":\n",
        "        print(app)"
      ],
      "execution_count": 0,
      "outputs": [
        {
          "output_type": "stream",
          "text": [
            "['Instagram', 'SOCIAL', '4.5', '66577313', 'Varies with device', '1,000,000,000+', 'Free', '0', 'Teen', 'Social', 'July 31, 2018', 'Varies with device', 'Varies with device']\n",
            "['Instagram', 'SOCIAL', '4.5', '66577446', 'Varies with device', '1,000,000,000+', 'Free', '0', 'Teen', 'Social', 'July 31, 2018', 'Varies with device', 'Varies with device']\n",
            "['Instagram', 'SOCIAL', '4.5', '66577313', 'Varies with device', '1,000,000,000+', 'Free', '0', 'Teen', 'Social', 'July 31, 2018', 'Varies with device', 'Varies with device']\n",
            "['Instagram', 'SOCIAL', '4.5', '66509917', 'Varies with device', '1,000,000,000+', 'Free', '0', 'Teen', 'Social', 'July 31, 2018', 'Varies with device', 'Varies with device']\n"
          ],
          "name": "stdout"
        }
      ]
    },
    {
      "metadata": {
        "id": "oiz0fZo0s1RS",
        "colab_type": "text"
      },
      "cell_type": "markdown",
      "source": [
        "Para remover os duplicados primeiro separamos aqueles que estão duplicados dos que não estão:"
      ]
    },
    {
      "metadata": {
        "id": "__vrrxHC9XU-",
        "colab_type": "code",
        "colab": {}
      },
      "cell_type": "code",
      "source": [
        "duplicate_apps = []\n",
        "unique_apps = []\n",
        "\n",
        "for app in apps_data_google[1:]:\n",
        "    name = app[0]\n",
        "    if name in unique_apps:\n",
        "        duplicate_apps.append(name)\n",
        "    else:\n",
        "        unique_apps.append(name)\n",
        "    \n",
        "for app in duplicate_apps:\n",
        "    if app in unique_apps:\n",
        "        unique_apps.remove(app)"
      ],
      "execution_count": 0,
      "outputs": []
    },
    {
      "metadata": {
        "id": "eduoKMd0_mx6",
        "colab_type": "text"
      },
      "cell_type": "markdown",
      "source": [
        "Agora removemos aqueles duplicados que tem menor quantidade avalições, pois queremos trabalhar com os dados mais recentes."
      ]
    },
    {
      "metadata": {
        "id": "5rh_3OPH_meE",
        "colab_type": "code",
        "colab": {}
      },
      "cell_type": "code",
      "source": [
        "apps_non_duplicates = []\n",
        "\n",
        "for name in duplicate_apps:\n",
        "    rating = 0\n",
        "    for app in apps_data_google:\n",
        "        if name == app[0]:\n",
        "            if int(app[3]) > rating:\n",
        "                rating = int(app[3])\n",
        "                app_2 = app\n",
        "    if app_2 not in apps_non_duplicates:\n",
        "        apps_non_duplicates.append(app_2)\n",
        "    \n",
        "for name in unique_apps:\n",
        "    for app in apps_data_google:\n",
        "        if name == app[0]:\n",
        "            apps_non_duplicates.append(app)"
      ],
      "execution_count": 0,
      "outputs": []
    },
    {
      "metadata": {
        "id": "-bBH_RFKf6AJ",
        "colab_type": "text"
      },
      "cell_type": "markdown",
      "source": [
        "Agora perceba que os apps não estão duplicados:"
      ]
    },
    {
      "metadata": {
        "id": "VjZNz_Gvf5mL",
        "colab_type": "code",
        "outputId": "a47f3c63-53b8-4963-d1a6-1f0494e9062d",
        "colab": {
          "base_uri": "https://localhost:8080/",
          "height": 55
        }
      },
      "cell_type": "code",
      "source": [
        "for app in apps_non_duplicates:\n",
        "    name = app[0]\n",
        "    if name == \"Instagram\":\n",
        "        print(app)"
      ],
      "execution_count": 0,
      "outputs": [
        {
          "output_type": "stream",
          "text": [
            "['Instagram', 'SOCIAL', '4.5', '66577446', 'Varies with device', '1,000,000,000+', 'Free', '0', 'Teen', 'Social', 'July 31, 2018', 'Varies with device', 'Varies with device']\n"
          ],
          "name": "stdout"
        }
      ]
    },
    {
      "metadata": {
        "id": "Yx3e6jcOsJpZ",
        "colab_type": "text"
      },
      "cell_type": "markdown",
      "source": [
        "##Removendo aplicativos que não estão em inglês"
      ]
    },
    {
      "metadata": {
        "id": "iOeCyG9Ny0gU",
        "colab_type": "text"
      },
      "cell_type": "markdown",
      "source": [
        "Agora perceba que alguns apps do Google Play não estão em inglês:"
      ]
    },
    {
      "metadata": {
        "id": "RAHMCss2uH9k",
        "colab_type": "code",
        "outputId": "83ee3010-3a1f-4a78-9f6d-1f1966a50fd5",
        "colab": {
          "base_uri": "https://localhost:8080/",
          "height": 55
        }
      },
      "cell_type": "code",
      "source": [
        "for app in apps_data_apple:\n",
        "    name = app[1]\n",
        "    if name == \"搜狐视频HD-欢乐颂2 全网首播\":\n",
        "        print(app)"
      ],
      "execution_count": 0,
      "outputs": [
        {
          "output_type": "stream",
          "text": [
            "['414430589', '搜狐视频HD-欢乐颂2 全网首播', '79696896', 'USD', '0.0', '3768', '5', '4.0', '3.0', '6.6', '17+', 'Entertainment', '24', '5', '1', '1']\n"
          ],
          "name": "stdout"
        }
      ]
    },
    {
      "metadata": {
        "id": "XBteyNGpy-9j",
        "colab_type": "text"
      },
      "cell_type": "markdown",
      "source": [
        "E alguns da Apple store também:"
      ]
    },
    {
      "metadata": {
        "id": "L0y-Yqk2kLjQ",
        "colab_type": "code",
        "outputId": "5b8ff874-60eb-4561-aa18-1788c7f7b573",
        "colab": {
          "base_uri": "https://localhost:8080/",
          "height": 55
        }
      },
      "cell_type": "code",
      "source": [
        "for app in apps_non_duplicates:\n",
        "    name = app[0]\n",
        "    if name == 'Flame - درب عقلك يوميا':\n",
        "        print(app)"
      ],
      "execution_count": 0,
      "outputs": [
        {
          "output_type": "stream",
          "text": [
            "['Flame - درب عقلك يوميا', 'EDUCATION', '4.6', '56065', '37M', '1,000,000+', 'Free', '0', 'Everyone', 'Education', 'July 26, 2018', '3.3', '4.1 and up']\n"
          ],
          "name": "stdout"
        }
      ]
    },
    {
      "metadata": {
        "id": "VCAkTy-hzHQX",
        "colab_type": "text"
      },
      "cell_type": "markdown",
      "source": [
        "Para remover esses aplicativos analizamos se existem mais de três caracteres no nome que não pertencem a tabela ASCII, ou seja, se esses caracteres corresponderem a um valor maior do que 127."
      ]
    },
    {
      "metadata": {
        "id": "sRJhIabpvrSy",
        "colab_type": "code",
        "colab": {}
      },
      "cell_type": "code",
      "source": [
        "apps_english_apple = []\n",
        "for app in apps_data_apple:\n",
        "    name = app[1]\n",
        "    i = 0\n",
        "    for caracter in name:\n",
        "        if ord(caracter) > 127:\n",
        "            i += 1\n",
        "    if i < 3:\n",
        "        apps_english_apple.append(app)"
      ],
      "execution_count": 0,
      "outputs": []
    },
    {
      "metadata": {
        "id": "UtcTU5JEgJEr",
        "colab_type": "code",
        "colab": {}
      },
      "cell_type": "code",
      "source": [
        "apps_english_google = []\n",
        "for app in apps_non_duplicates:\n",
        "    name = app[0]\n",
        "    i = 0\n",
        "    for caracter in name:\n",
        "        if ord(caracter) > 127:\n",
        "            i += 1\n",
        "    if i < 3:\n",
        "        apps_english_google.append(app)"
      ],
      "execution_count": 0,
      "outputs": []
    },
    {
      "metadata": {
        "id": "qOOrflJJ0D8W",
        "colab_type": "text"
      },
      "cell_type": "markdown",
      "source": [
        "Agora perceba que os apps que não tem nome em inglês foram removidos da Apple Store"
      ]
    },
    {
      "metadata": {
        "id": "EmAI3LvCvzBa",
        "colab_type": "code",
        "outputId": "dff1fb34-1d47-4253-cc70-b9bed36c8fcf",
        "colab": {
          "base_uri": "https://localhost:8080/",
          "height": 55
        }
      },
      "cell_type": "code",
      "source": [
        "non_english_app = False\n",
        "for app in apps_english_apple:\n",
        "    name = app[1]\n",
        "    if name == \"搜狐视频HD-欢乐颂2 全网首播\":\n",
        "        non_english_app = True\n",
        "if (not non_english_app):\n",
        "    print(\"Os apps que não tem nome em inglês foram removidos da Apple Store\")"
      ],
      "execution_count": 0,
      "outputs": [
        {
          "output_type": "stream",
          "text": [
            "Os apps que não tem nome em inglês foram removidos da Apple Store\n"
          ],
          "name": "stdout"
        }
      ]
    },
    {
      "metadata": {
        "id": "xWwbiMkP0P1G",
        "colab_type": "text"
      },
      "cell_type": "markdown",
      "source": [
        "Agora perceba que os apps que não tem nome em inglês foram removidos da Google Play"
      ]
    },
    {
      "metadata": {
        "id": "inMzuE1El4-4",
        "colab_type": "code",
        "outputId": "412c82ee-8e80-49ad-d26b-813c42fbe1e1",
        "colab": {
          "base_uri": "https://localhost:8080/",
          "height": 55
        }
      },
      "cell_type": "code",
      "source": [
        "non_english_app = False\n",
        "for app in apps_english_google:\n",
        "    name = app[0]\n",
        "    if name == 'Flame - درب عقلك يوميا':\n",
        "        non_english_app = True\n",
        "if (not non_english_app):\n",
        "    print(\"Os apps que não tem nome em inglês foram removidos do Google Play\")"
      ],
      "execution_count": 0,
      "outputs": [
        {
          "output_type": "stream",
          "text": [
            "Os apps que não tem nome em inglês foram removidos do Google Play\n"
          ],
          "name": "stdout"
        }
      ]
    },
    {
      "metadata": {
        "id": "Ys7tqeHImPBX",
        "colab_type": "text"
      },
      "cell_type": "markdown",
      "source": [
        "## Isolando os aplicativos gratuitos"
      ]
    },
    {
      "metadata": {
        "id": "5zLwwkHIkPgN",
        "colab_type": "text"
      },
      "cell_type": "markdown",
      "source": [
        "Nas células abaixo, isolamos os aplicativos, tanto da Apple Store quanto do Google Play, que são gratuitos e os armazenamos em uma lista para cada conjunto de dados."
      ]
    },
    {
      "metadata": {
        "id": "tCx5AW_MkRKV",
        "colab_type": "code",
        "colab": {}
      },
      "cell_type": "code",
      "source": [
        "free_apps_apple = []\n",
        "for app in apps_english_apple:\n",
        "    price = app [4]\n",
        "    if price == '0.0':\n",
        "        free_apps_apple.append(app) "
      ],
      "execution_count": 0,
      "outputs": []
    },
    {
      "metadata": {
        "id": "Ue_A1nAMJHHZ",
        "colab_type": "code",
        "colab": {}
      },
      "cell_type": "code",
      "source": [
        "free_apps_google = []\n",
        "for app in apps_english_google:\n",
        "    price = app [7]\n",
        "    if price == '0':\n",
        "        free_apps_google.append(app)"
      ],
      "execution_count": 0,
      "outputs": []
    },
    {
      "metadata": {
        "id": "jAMtqHFxka42",
        "colab_type": "text"
      },
      "cell_type": "markdown",
      "source": [
        "Com a finalidade de sabermos quantos aplicativos ainda possuímos em cada conjunto de dados, usamos a função len().\n"
      ]
    },
    {
      "metadata": {
        "id": "ChKdDvF3kSDz",
        "colab_type": "code",
        "outputId": "2de804e1-91bd-4696-afc6-721ee42a012e",
        "colab": {
          "base_uri": "https://localhost:8080/",
          "height": 55
        }
      },
      "cell_type": "code",
      "source": [
        "len(free_apps_apple)"
      ],
      "execution_count": 0,
      "outputs": [
        {
          "output_type": "execute_result",
          "data": {
            "text/plain": [
              "3203"
            ]
          },
          "metadata": {
            "tags": []
          },
          "execution_count": 17
        }
      ]
    },
    {
      "metadata": {
        "id": "iq244DJu8SqI",
        "colab_type": "code",
        "outputId": "079eda1e-09a6-4a10-b0bd-11afd6ac8992",
        "colab": {
          "base_uri": "https://localhost:8080/",
          "height": 55
        }
      },
      "cell_type": "code",
      "source": [
        "len(free_apps_google)"
      ],
      "execution_count": 0,
      "outputs": [
        {
          "output_type": "execute_result",
          "data": {
            "text/plain": [
              "8845"
            ]
          },
          "metadata": {
            "tags": []
          },
          "execution_count": 18
        }
      ]
    },
    {
      "metadata": {
        "id": "143nBKLdkn9f",
        "colab_type": "text"
      },
      "cell_type": "markdown",
      "source": [
        "## Aplicativos mais comuns por gênero"
      ]
    },
    {
      "metadata": {
        "id": "NIRlLMFjkp5o",
        "colab_type": "text"
      },
      "cell_type": "markdown",
      "source": [
        "Nosso objetivo é determinar os tipos de aplicativos que são mais prováveis de atrair usuários, pois nossa receita é altamente influenciada pela quantidade de pessoas que usam nossos aplicativos.\n",
        "\n",
        "Para minimizar riscos e sobrecarga, a nossa estratégia de validação para uma ideia de aplicativo é compreendida em três passos:\n",
        "\n",
        "- Construir uma versão mínima em Android do aplicativo e o adicionamos ao Google Play;\n",
        "- Se o aplicativo tem uma boa resposta dos usuários, então nós iremos desenvolvê-lo mais;\n",
        "- Se o aplicativo é útil depois de seis meses, nós também construímos uma versão do aplicativo para iOS e o adicionamos ao App Store."
      ]
    },
    {
      "metadata": {
        "id": "bRDf0BeTBRyP",
        "colab_type": "text"
      },
      "cell_type": "markdown",
      "source": [
        "Note que criamos uma tabela de frequência com um dicionário para armazenar a coluna \"**prime_genre**'', do conjunto de dados do Apple Store."
      ]
    },
    {
      "metadata": {
        "id": "UMRORabDkRsp",
        "colab_type": "code",
        "colab": {}
      },
      "cell_type": "code",
      "source": [
        "genres_apple_dict = {}\n",
        "for app in free_apps_apple:\n",
        "    genre_apple = app[11]\n",
        "    if genre_apple in genres_apple_dict:\n",
        "        genres_apple_dict[genre_apple] += 1\n",
        "    else:\n",
        "        # create and assign value 1\n",
        "        genres_apple_dict[genre_apple] = 1"
      ],
      "execution_count": 0,
      "outputs": []
    },
    {
      "metadata": {
        "id": "T2AK70Y0hnyw",
        "colab_type": "code",
        "outputId": "345fb2b6-a7cc-4ad0-a5c2-f448676e5fb9",
        "colab": {
          "base_uri": "https://localhost:8080/",
          "height": 451
        }
      },
      "cell_type": "code",
      "source": [
        "genres_apple_dict"
      ],
      "execution_count": 0,
      "outputs": [
        {
          "output_type": "execute_result",
          "data": {
            "text/plain": [
              "{'Book': 12,\n",
              " 'Business': 17,\n",
              " 'Catalogs': 4,\n",
              " 'Education': 118,\n",
              " 'Entertainment': 251,\n",
              " 'Finance': 35,\n",
              " 'Food & Drink': 26,\n",
              " 'Games': 1866,\n",
              " 'Health & Fitness': 65,\n",
              " 'Lifestyle': 50,\n",
              " 'Medical': 6,\n",
              " 'Music': 66,\n",
              " 'Navigation': 6,\n",
              " 'News': 43,\n",
              " 'Photo & Video': 160,\n",
              " 'Productivity': 56,\n",
              " 'Reference': 17,\n",
              " 'Shopping': 83,\n",
              " 'Social Networking': 106,\n",
              " 'Sports': 69,\n",
              " 'Travel': 40,\n",
              " 'Utilities': 79,\n",
              " 'Weather': 28}"
            ]
          },
          "metadata": {
            "tags": []
          },
          "execution_count": 20
        }
      ]
    },
    {
      "metadata": {
        "id": "MyTw0EXNqWL_",
        "colab_type": "text"
      },
      "cell_type": "markdown",
      "source": [
        "Em seguida, é calculado e mostrado a porcentagem dos aplicativos de acordo com o número total de aplicativos da Apple Store depois de retirarmos os que não são ingleses e não gratuitos"
      ]
    },
    {
      "metadata": {
        "id": "XJITxg2XlIVm",
        "colab_type": "code",
        "outputId": "dce88d0e-1297-4159-9230-bf6edf5ebacd",
        "colab": {
          "base_uri": "https://localhost:8080/",
          "height": 109
        }
      },
      "cell_type": "code",
      "source": [
        "genres_apple_dict\n",
        "total_number_of_apps_apple = 3203\n",
        "genres_proportions_apple = {}\n",
        "\n",
        "for key in genres_apple_dict:\n",
        "    proportion_apple = genres_apple_dict[key] / total_number_of_apps_apple\n",
        "    genres_proportions_apple[key] = proportion_apple\n",
        "\n",
        "print (genres_proportions_apple)\n",
        "print (\"\\n\")\n",
        "print (genres_apple_dict)"
      ],
      "execution_count": 0,
      "outputs": [
        {
          "output_type": "stream",
          "text": [
            "{'Social Networking': 0.033093974399000935, 'Photo & Video': 0.049953168904152356, 'Games': 0.5825788323446769, 'Music': 0.020605682172962846, 'Reference': 0.005307524196066188, 'Health & Fitness': 0.020293474867311895, 'Weather': 0.008741804558226662, 'Utilities': 0.024664377146425227, 'Travel': 0.012488292226038089, 'Shopping': 0.025913206369029034, 'News': 0.013424914142990947, 'Navigation': 0.0018732438339057135, 'Lifestyle': 0.015610365282547611, 'Entertainment': 0.07836403371838901, 'Food & Drink': 0.008117389946924758, 'Sports': 0.021542304089915705, 'Book': 0.003746487667811427, 'Finance': 0.010927255697783328, 'Education': 0.036840462066812366, 'Productivity': 0.017483609116453323, 'Business': 0.005307524196066188, 'Catalogs': 0.001248829222603809, 'Medical': 0.0018732438339057135}\n",
            "\n",
            "\n",
            "{'Social Networking': 106, 'Photo & Video': 160, 'Games': 1866, 'Music': 66, 'Reference': 17, 'Health & Fitness': 65, 'Weather': 28, 'Utilities': 79, 'Travel': 40, 'Shopping': 83, 'News': 43, 'Navigation': 6, 'Lifestyle': 50, 'Entertainment': 251, 'Food & Drink': 26, 'Sports': 69, 'Book': 12, 'Finance': 35, 'Education': 118, 'Productivity': 56, 'Business': 17, 'Catalogs': 4, 'Medical': 6}\n"
          ],
          "name": "stdout"
        }
      ]
    },
    {
      "metadata": {
        "id": "Bqx52NCh9lvP",
        "colab_type": "text"
      },
      "cell_type": "markdown",
      "source": [
        "Agora, criamos uma tabela de frequência com um dicionário para armazenar a coluna \"**Category**'', do conjunto de dados do Google Play."
      ]
    },
    {
      "metadata": {
        "id": "9tCDDDE3lIL1",
        "colab_type": "code",
        "colab": {}
      },
      "cell_type": "code",
      "source": [
        "genres_google_dict = {}\n",
        "for app in free_apps_google:\n",
        "    genre_google = app[1]\n",
        "    if genre_google in genres_google_dict:\n",
        "        genres_google_dict[genre_google] += 1\n",
        "    else:\n",
        "        genres_google_dict[genre_google] = 1"
      ],
      "execution_count": 0,
      "outputs": []
    },
    {
      "metadata": {
        "id": "wSDVULuWlH-t",
        "colab_type": "code",
        "outputId": "09b8f3f5-1980-422f-99de-19e7f02d5f07",
        "colab": {
          "base_uri": "https://localhost:8080/",
          "height": 631
        }
      },
      "cell_type": "code",
      "source": [
        "genres_google_dict"
      ],
      "execution_count": 0,
      "outputs": [
        {
          "output_type": "execute_result",
          "data": {
            "text/plain": [
              "{'ART_AND_DESIGN': 57,\n",
              " 'AUTO_AND_VEHICLES': 82,\n",
              " 'BEAUTY': 53,\n",
              " 'BOOKS_AND_REFERENCE': 189,\n",
              " 'BUSINESS': 407,\n",
              " 'COMICS': 54,\n",
              " 'COMMUNICATION': 286,\n",
              " 'DATING': 165,\n",
              " 'EDUCATION': 103,\n",
              " 'ENTERTAINMENT': 85,\n",
              " 'EVENTS': 63,\n",
              " 'FAMILY': 1676,\n",
              " 'FINANCE': 328,\n",
              " 'FOOD_AND_DRINK': 110,\n",
              " 'GAME': 858,\n",
              " 'HEALTH_AND_FITNESS': 273,\n",
              " 'HOUSE_AND_HOME': 71,\n",
              " 'LIBRARIES_AND_DEMO': 83,\n",
              " 'LIFESTYLE': 344,\n",
              " 'MAPS_AND_NAVIGATION': 123,\n",
              " 'MEDICAL': 310,\n",
              " 'NEWS_AND_MAGAZINES': 248,\n",
              " 'PARENTING': 58,\n",
              " 'PERSONALIZATION': 294,\n",
              " 'PHOTOGRAPHY': 261,\n",
              " 'PRODUCTIVITY': 345,\n",
              " 'SHOPPING': 199,\n",
              " 'SOCIAL': 236,\n",
              " 'SPORTS': 300,\n",
              " 'TOOLS': 748,\n",
              " 'TRAVEL_AND_LOCAL': 207,\n",
              " 'VIDEO_PLAYERS': 159,\n",
              " 'WEATHER': 70}"
            ]
          },
          "metadata": {
            "tags": []
          },
          "execution_count": 23
        }
      ]
    },
    {
      "metadata": {
        "id": "h0ymN_D-qdNo",
        "colab_type": "text"
      },
      "cell_type": "markdown",
      "source": [
        "Abaixo é calculado e mostrado a porcentagem dos aplicativos da coluna **Category** de acordo com o número total de aplicativos do Google Play depois de retirarmos os que não são ingleses e não gratuitos."
      ]
    },
    {
      "metadata": {
        "id": "1Qo3dj6eqcvj",
        "colab_type": "code",
        "outputId": "9a2e107f-f24d-4d2a-b7b5-bc784896c9b0",
        "colab": {
          "base_uri": "https://localhost:8080/",
          "height": 109
        }
      },
      "cell_type": "code",
      "source": [
        "genres_google_dict\n",
        "total_number_of_apps_google = 8845\n",
        "genres_proportions_google = {}\n",
        "\n",
        "for key in genres_google_dict:\n",
        "  proportion_google = genres_google_dict[key] / total_number_of_apps_google\n",
        "  genres_proportions_google[key] = proportion_google\n",
        "\n",
        "print (genres_proportions_google)\n",
        "print (\"\\n\")\n",
        "print (genres_google_dict)"
      ],
      "execution_count": 0,
      "outputs": [
        {
          "output_type": "stream",
          "text": [
            "{'BUSINESS': 0.04601469756924816, 'COMMUNICATION': 0.03233465234595817, 'DATING': 0.018654607122668174, 'EDUCATION': 0.011644997173544376, 'FAMILY': 0.1894855850763143, 'ENTERTAINMENT': 0.009609949123798756, 'FINANCE': 0.03708309779536461, 'FOOD_AND_DRINK': 0.01243640474844545, 'HEALTH_AND_FITNESS': 0.03086489542114189, 'HOUSE_AND_HOME': 0.008027133973996608, 'LIFESTYLE': 0.03889202939513849, 'GAME': 0.09700395703787451, 'MEDICAL': 0.035048049745618995, 'SOCIAL': 0.026681741096664782, 'SHOPPING': 0.022498586772187676, 'PHOTOGRAPHY': 0.029508196721311476, 'SPORTS': 0.033917467495760314, 'TRAVEL_AND_LOCAL': 0.023403052572074617, 'TOOLS': 0.08456755228942905, 'PERSONALIZATION': 0.03323911814584511, 'PRODUCTIVITY': 0.03900508762012436, 'VIDEO_PLAYERS': 0.017976257772752968, 'NEWS_AND_MAGAZINES': 0.028038439796495195, 'BOOKS_AND_REFERENCE': 0.021368004522329, 'ART_AND_DESIGN': 0.00644431882419446, 'MAPS_AND_NAVIGATION': 0.01390616167326173, 'COMICS': 0.006105144149236857, 'WEATHER': 0.00791407574901074, 'LIBRARIES_AND_DEMO': 0.00938383267382702, 'AUTO_AND_VEHICLES': 0.009270774448841152, 'BEAUTY': 0.005992085924250989, 'EVENTS': 0.007122668174109666, 'PARENTING': 0.006557377049180328}\n",
            "\n",
            "\n",
            "{'BUSINESS': 407, 'COMMUNICATION': 286, 'DATING': 165, 'EDUCATION': 103, 'FAMILY': 1676, 'ENTERTAINMENT': 85, 'FINANCE': 328, 'FOOD_AND_DRINK': 110, 'HEALTH_AND_FITNESS': 273, 'HOUSE_AND_HOME': 71, 'LIFESTYLE': 344, 'GAME': 858, 'MEDICAL': 310, 'SOCIAL': 236, 'SHOPPING': 199, 'PHOTOGRAPHY': 261, 'SPORTS': 300, 'TRAVEL_AND_LOCAL': 207, 'TOOLS': 748, 'PERSONALIZATION': 294, 'PRODUCTIVITY': 345, 'VIDEO_PLAYERS': 159, 'NEWS_AND_MAGAZINES': 248, 'BOOKS_AND_REFERENCE': 189, 'ART_AND_DESIGN': 57, 'MAPS_AND_NAVIGATION': 123, 'COMICS': 54, 'WEATHER': 70, 'LIBRARIES_AND_DEMO': 83, 'AUTO_AND_VEHICLES': 82, 'BEAUTY': 53, 'EVENTS': 63, 'PARENTING': 58}\n"
          ],
          "name": "stdout"
        }
      ]
    },
    {
      "metadata": {
        "id": "_sKeknMQ90F3",
        "colab_type": "text"
      },
      "cell_type": "markdown",
      "source": [
        "No código abaixo, criamos um segundo dicionário para armazenar os gêneros da coluna ''**Genres**'', também do Google Play."
      ]
    },
    {
      "metadata": {
        "id": "yZuhbD7R9dJS",
        "colab_type": "code",
        "colab": {}
      },
      "cell_type": "code",
      "source": [
        "genres_google_dict2 = {}\n",
        "for app in free_apps_google:\n",
        "    genre_google = app[9]\n",
        "    if genre_google in genres_google_dict:\n",
        "        genres_google_dict2[genre_google] += 1\n",
        "    else:\n",
        "        genres_google_dict2[genre_google] = 1"
      ],
      "execution_count": 0,
      "outputs": []
    },
    {
      "metadata": {
        "id": "Lo1RDC2m9hqd",
        "colab_type": "code",
        "outputId": "c1fc0848-f9b3-4076-d9d3-85664d2b44c2",
        "colab": {
          "base_uri": "https://localhost:8080/",
          "height": 2089
        }
      },
      "cell_type": "code",
      "source": [
        "genres_google_dict2"
      ],
      "execution_count": 0,
      "outputs": [
        {
          "output_type": "execute_result",
          "data": {
            "text/plain": [
              "{'Action': 1,\n",
              " 'Action;Action & Adventure': 1,\n",
              " 'Adventure': 1,\n",
              " 'Adventure;Action & Adventure': 1,\n",
              " 'Adventure;Education': 1,\n",
              " 'Arcade': 1,\n",
              " 'Arcade;Action & Adventure': 1,\n",
              " 'Arcade;Pretend Play': 1,\n",
              " 'Art & Design': 1,\n",
              " 'Art & Design;Action & Adventure': 1,\n",
              " 'Art & Design;Creativity': 1,\n",
              " 'Art & Design;Pretend Play': 1,\n",
              " 'Auto & Vehicles': 1,\n",
              " 'Beauty': 1,\n",
              " 'Board': 1,\n",
              " 'Board;Action & Adventure': 1,\n",
              " 'Board;Brain Games': 1,\n",
              " 'Books & Reference': 1,\n",
              " 'Books & Reference;Education': 1,\n",
              " 'Business': 1,\n",
              " 'Card': 1,\n",
              " 'Card;Action & Adventure': 1,\n",
              " 'Casino': 1,\n",
              " 'Casual': 1,\n",
              " 'Casual;Action & Adventure': 1,\n",
              " 'Casual;Brain Games': 1,\n",
              " 'Casual;Creativity': 1,\n",
              " 'Casual;Education': 1,\n",
              " 'Casual;Music & Video': 1,\n",
              " 'Casual;Pretend Play': 1,\n",
              " 'Comics': 1,\n",
              " 'Comics;Creativity': 1,\n",
              " 'Communication': 1,\n",
              " 'Communication;Creativity': 1,\n",
              " 'Dating': 1,\n",
              " 'Education': 1,\n",
              " 'Education;Action & Adventure': 1,\n",
              " 'Education;Brain Games': 1,\n",
              " 'Education;Creativity': 1,\n",
              " 'Education;Education': 1,\n",
              " 'Education;Music & Video': 1,\n",
              " 'Education;Pretend Play': 1,\n",
              " 'Educational': 1,\n",
              " 'Educational;Action & Adventure': 1,\n",
              " 'Educational;Brain Games': 1,\n",
              " 'Educational;Creativity': 1,\n",
              " 'Educational;Education': 1,\n",
              " 'Educational;Pretend Play': 1,\n",
              " 'Entertainment': 1,\n",
              " 'Entertainment;Action & Adventure': 1,\n",
              " 'Entertainment;Brain Games': 1,\n",
              " 'Entertainment;Creativity': 1,\n",
              " 'Entertainment;Education': 1,\n",
              " 'Entertainment;Music & Video': 1,\n",
              " 'Entertainment;Pretend Play': 1,\n",
              " 'Events': 1,\n",
              " 'Finance': 1,\n",
              " 'Food & Drink': 1,\n",
              " 'Health & Fitness': 1,\n",
              " 'Health & Fitness;Action & Adventure': 1,\n",
              " 'Health & Fitness;Education': 1,\n",
              " 'House & Home': 1,\n",
              " 'Libraries & Demo': 1,\n",
              " 'Lifestyle': 1,\n",
              " 'Lifestyle;Education': 1,\n",
              " 'Lifestyle;Pretend Play': 1,\n",
              " 'Maps & Navigation': 1,\n",
              " 'Medical': 1,\n",
              " 'Music': 1,\n",
              " 'Music & Audio;Music & Video': 1,\n",
              " 'Music;Music & Video': 1,\n",
              " 'News & Magazines': 1,\n",
              " 'Parenting': 1,\n",
              " 'Parenting;Brain Games': 1,\n",
              " 'Parenting;Education': 1,\n",
              " 'Parenting;Music & Video': 1,\n",
              " 'Personalization': 1,\n",
              " 'Photography': 1,\n",
              " 'Productivity': 1,\n",
              " 'Puzzle': 1,\n",
              " 'Puzzle;Action & Adventure': 1,\n",
              " 'Puzzle;Brain Games': 1,\n",
              " 'Puzzle;Creativity': 1,\n",
              " 'Puzzle;Education': 1,\n",
              " 'Racing': 1,\n",
              " 'Racing;Action & Adventure': 1,\n",
              " 'Racing;Pretend Play': 1,\n",
              " 'Role Playing': 1,\n",
              " 'Role Playing;Action & Adventure': 1,\n",
              " 'Role Playing;Brain Games': 1,\n",
              " 'Role Playing;Pretend Play': 1,\n",
              " 'Shopping': 1,\n",
              " 'Simulation': 1,\n",
              " 'Simulation;Action & Adventure': 1,\n",
              " 'Simulation;Education': 1,\n",
              " 'Simulation;Pretend Play': 1,\n",
              " 'Social': 1,\n",
              " 'Sports': 1,\n",
              " 'Sports;Action & Adventure': 1,\n",
              " 'Strategy': 1,\n",
              " 'Strategy;Action & Adventure': 1,\n",
              " 'Strategy;Creativity': 1,\n",
              " 'Strategy;Education': 1,\n",
              " 'Tools': 1,\n",
              " 'Tools;Education': 1,\n",
              " 'Travel & Local': 1,\n",
              " 'Travel & Local;Action & Adventure': 1,\n",
              " 'Trivia': 1,\n",
              " 'Trivia;Education': 1,\n",
              " 'Video Players & Editors': 1,\n",
              " 'Video Players & Editors;Creativity': 1,\n",
              " 'Video Players & Editors;Music & Video': 1,\n",
              " 'Weather': 1,\n",
              " 'Word': 1}"
            ]
          },
          "metadata": {
            "tags": []
          },
          "execution_count": 26
        }
      ]
    },
    {
      "metadata": {
        "id": "M7vFyURIqqMr",
        "colab_type": "text"
      },
      "cell_type": "markdown",
      "source": [
        "Abaixo é calculado e mostrado a porcentagem dos aplicativos da coluna **Genres** de acordo com o número total de aplicativos do Google Play depois de retirarmos os que não são ingleses e não gratuitos"
      ]
    },
    {
      "metadata": {
        "id": "11eOvy9Zqp5u",
        "colab_type": "code",
        "outputId": "c1b9ced4-5411-4742-f559-64813069c770",
        "colab": {
          "base_uri": "https://localhost:8080/",
          "height": 109
        }
      },
      "cell_type": "code",
      "source": [
        "genres_google_dict2\n",
        "total_number_of_apps_google = 8845\n",
        "genres_proportions_google2 = {}\n",
        "\n",
        "for key in genres_google_dict2:\n",
        "  proportion_google2 = genres_google_dict2[key] / total_number_of_apps_google\n",
        "  genres_proportions_google2[key] = proportion_google2\n",
        "\n",
        "print (genres_proportions_google2)\n",
        "print (\"\\n\")\n",
        "print (genres_google_dict2)"
      ],
      "execution_count": 0,
      "outputs": [
        {
          "output_type": "stream",
          "text": [
            "{'Business': 0.00011305822498586772, 'Communication': 0.00011305822498586772, 'Dating': 0.00011305822498586772, 'Education': 0.00011305822498586772, 'Education;Education': 0.00011305822498586772, 'Entertainment': 0.00011305822498586772, 'Entertainment;Music & Video': 0.00011305822498586772, 'Finance': 0.00011305822498586772, 'Food & Drink': 0.00011305822498586772, 'Health & Fitness': 0.00011305822498586772, 'House & Home': 0.00011305822498586772, 'Lifestyle': 0.00011305822498586772, 'Arcade': 0.00011305822498586772, 'Adventure;Action & Adventure': 0.00011305822498586772, 'Casual': 0.00011305822498586772, 'Sports': 0.00011305822498586772, 'Strategy': 0.00011305822498586772, 'Word': 0.00011305822498586772, 'Puzzle': 0.00011305822498586772, 'Action': 0.00011305822498586772, 'Music': 0.00011305822498586772, 'Simulation': 0.00011305822498586772, 'Adventure': 0.00011305822498586772, 'Role Playing': 0.00011305822498586772, 'Racing': 0.00011305822498586772, 'Card': 0.00011305822498586772, 'Casual;Brain Games': 0.00011305822498586772, 'Education;Creativity': 0.00011305822498586772, 'Casual;Pretend Play': 0.00011305822498586772, 'Simulation;Action & Adventure': 0.00011305822498586772, 'Art & Design;Pretend Play': 0.00011305822498586772, 'Casual;Creativity': 0.00011305822498586772, 'Casual;Action & Adventure': 0.00011305822498586772, 'Entertainment;Brain Games': 0.00011305822498586772, 'Educational;Education': 0.00011305822498586772, 'Racing;Action & Adventure': 0.00011305822498586772, 'Art & Design;Action & Adventure': 0.00011305822498586772, 'Education;Action & Adventure': 0.00011305822498586772, 'Action;Action & Adventure': 0.00011305822498586772, 'Educational;Pretend Play': 0.00011305822498586772, 'Casual;Music & Video': 0.00011305822498586772, 'Education;Pretend Play': 0.00011305822498586772, 'Education;Music & Video': 0.00011305822498586772, 'Role Playing;Pretend Play': 0.00011305822498586772, 'Arcade;Action & Adventure': 0.00011305822498586772, 'Role Playing;Action & Adventure': 0.00011305822498586772, 'Puzzle;Action & Adventure': 0.00011305822498586772, 'Puzzle;Brain Games': 0.00011305822498586772, 'Education;Brain Games': 0.00011305822498586772, 'Medical': 0.00011305822498586772, 'Social': 0.00011305822498586772, 'Shopping': 0.00011305822498586772, 'Photography': 0.00011305822498586772, 'Travel & Local': 0.00011305822498586772, 'Tools': 0.00011305822498586772, 'Personalization': 0.00011305822498586772, 'Productivity': 0.00011305822498586772, 'Video Players & Editors': 0.00011305822498586772, 'Video Players & Editors;Creativity': 0.00011305822498586772, 'News & Magazines': 0.00011305822498586772, 'Educational;Action & Adventure': 0.00011305822498586772, 'Books & Reference': 0.00011305822498586772, 'Art & Design': 0.00011305822498586772, 'Maps & Navigation': 0.00011305822498586772, 'Comics': 0.00011305822498586772, 'Weather': 0.00011305822498586772, 'Libraries & Demo': 0.00011305822498586772, 'Board': 0.00011305822498586772, 'Art & Design;Creativity': 0.00011305822498586772, 'Video Players & Editors;Music & Video': 0.00011305822498586772, 'Simulation;Pretend Play': 0.00011305822498586772, 'Adventure;Education': 0.00011305822498586772, 'Auto & Vehicles': 0.00011305822498586772, 'Beauty': 0.00011305822498586772, 'Comics;Creativity': 0.00011305822498586772, 'Entertainment;Creativity': 0.00011305822498586772, 'Events': 0.00011305822498586772, 'Lifestyle;Pretend Play': 0.00011305822498586772, 'Trivia': 0.00011305822498586772, 'Educational;Creativity': 0.00011305822498586772, 'Educational;Brain Games': 0.00011305822498586772, 'Entertainment;Education': 0.00011305822498586772, 'Casual;Education': 0.00011305822498586772, 'Music;Music & Video': 0.00011305822498586772, 'Arcade;Pretend Play': 0.00011305822498586772, 'Puzzle;Creativity': 0.00011305822498586772, 'Sports;Action & Adventure': 0.00011305822498586772, 'Entertainment;Action & Adventure': 0.00011305822498586772, 'Strategy;Action & Adventure': 0.00011305822498586772, 'Music & Audio;Music & Video': 0.00011305822498586772, 'Health & Fitness;Education': 0.00011305822498586772, 'Board;Action & Adventure': 0.00011305822498586772, 'Board;Brain Games': 0.00011305822498586772, 'Entertainment;Pretend Play': 0.00011305822498586772, 'Travel & Local;Action & Adventure': 0.00011305822498586772, 'Tools;Education': 0.00011305822498586772, 'Parenting': 0.00011305822498586772, 'Parenting;Music & Video': 0.00011305822498586772, 'Parenting;Education': 0.00011305822498586772, 'Parenting;Brain Games': 0.00011305822498586772, 'Health & Fitness;Action & Adventure': 0.00011305822498586772, 'Educational': 0.00011305822498586772, 'Casino': 0.00011305822498586772, 'Trivia;Education': 0.00011305822498586772, 'Lifestyle;Education': 0.00011305822498586772, 'Card;Action & Adventure': 0.00011305822498586772, 'Books & Reference;Education': 0.00011305822498586772, 'Simulation;Education': 0.00011305822498586772, 'Puzzle;Education': 0.00011305822498586772, 'Role Playing;Brain Games': 0.00011305822498586772, 'Strategy;Education': 0.00011305822498586772, 'Racing;Pretend Play': 0.00011305822498586772, 'Communication;Creativity': 0.00011305822498586772, 'Strategy;Creativity': 0.00011305822498586772}\n",
            "\n",
            "\n",
            "{'Business': 1, 'Communication': 1, 'Dating': 1, 'Education': 1, 'Education;Education': 1, 'Entertainment': 1, 'Entertainment;Music & Video': 1, 'Finance': 1, 'Food & Drink': 1, 'Health & Fitness': 1, 'House & Home': 1, 'Lifestyle': 1, 'Arcade': 1, 'Adventure;Action & Adventure': 1, 'Casual': 1, 'Sports': 1, 'Strategy': 1, 'Word': 1, 'Puzzle': 1, 'Action': 1, 'Music': 1, 'Simulation': 1, 'Adventure': 1, 'Role Playing': 1, 'Racing': 1, 'Card': 1, 'Casual;Brain Games': 1, 'Education;Creativity': 1, 'Casual;Pretend Play': 1, 'Simulation;Action & Adventure': 1, 'Art & Design;Pretend Play': 1, 'Casual;Creativity': 1, 'Casual;Action & Adventure': 1, 'Entertainment;Brain Games': 1, 'Educational;Education': 1, 'Racing;Action & Adventure': 1, 'Art & Design;Action & Adventure': 1, 'Education;Action & Adventure': 1, 'Action;Action & Adventure': 1, 'Educational;Pretend Play': 1, 'Casual;Music & Video': 1, 'Education;Pretend Play': 1, 'Education;Music & Video': 1, 'Role Playing;Pretend Play': 1, 'Arcade;Action & Adventure': 1, 'Role Playing;Action & Adventure': 1, 'Puzzle;Action & Adventure': 1, 'Puzzle;Brain Games': 1, 'Education;Brain Games': 1, 'Medical': 1, 'Social': 1, 'Shopping': 1, 'Photography': 1, 'Travel & Local': 1, 'Tools': 1, 'Personalization': 1, 'Productivity': 1, 'Video Players & Editors': 1, 'Video Players & Editors;Creativity': 1, 'News & Magazines': 1, 'Educational;Action & Adventure': 1, 'Books & Reference': 1, 'Art & Design': 1, 'Maps & Navigation': 1, 'Comics': 1, 'Weather': 1, 'Libraries & Demo': 1, 'Board': 1, 'Art & Design;Creativity': 1, 'Video Players & Editors;Music & Video': 1, 'Simulation;Pretend Play': 1, 'Adventure;Education': 1, 'Auto & Vehicles': 1, 'Beauty': 1, 'Comics;Creativity': 1, 'Entertainment;Creativity': 1, 'Events': 1, 'Lifestyle;Pretend Play': 1, 'Trivia': 1, 'Educational;Creativity': 1, 'Educational;Brain Games': 1, 'Entertainment;Education': 1, 'Casual;Education': 1, 'Music;Music & Video': 1, 'Arcade;Pretend Play': 1, 'Puzzle;Creativity': 1, 'Sports;Action & Adventure': 1, 'Entertainment;Action & Adventure': 1, 'Strategy;Action & Adventure': 1, 'Music & Audio;Music & Video': 1, 'Health & Fitness;Education': 1, 'Board;Action & Adventure': 1, 'Board;Brain Games': 1, 'Entertainment;Pretend Play': 1, 'Travel & Local;Action & Adventure': 1, 'Tools;Education': 1, 'Parenting': 1, 'Parenting;Music & Video': 1, 'Parenting;Education': 1, 'Parenting;Brain Games': 1, 'Health & Fitness;Action & Adventure': 1, 'Educational': 1, 'Casino': 1, 'Trivia;Education': 1, 'Lifestyle;Education': 1, 'Card;Action & Adventure': 1, 'Books & Reference;Education': 1, 'Simulation;Education': 1, 'Puzzle;Education': 1, 'Role Playing;Brain Games': 1, 'Strategy;Education': 1, 'Racing;Pretend Play': 1, 'Communication;Creativity': 1, 'Strategy;Creativity': 1}\n"
          ],
          "name": "stdout"
        }
      ]
    },
    {
      "metadata": {
        "id": "rp3heyBo-0gZ",
        "colab_type": "text"
      },
      "cell_type": "markdown",
      "source": [
        "Agora, criamos uma função para gerar uma tabela de frequência e, em seguida, usá-la em conjunto com a função **display_table()**."
      ]
    },
    {
      "metadata": {
        "id": "W8DvRJ_SBFZU",
        "colab_type": "code",
        "colab": {}
      },
      "cell_type": "code",
      "source": [
        "def freq_table (dataset, index):\n",
        "    genres_dataset_dict = {}  \n",
        "    for row in dataset:\n",
        "        dataset_genre = row[index]\n",
        "        if dataset_genre in genres_dataset_dict:\n",
        "            genres_dataset_dict[dataset_genre] += 1\n",
        "        else:\n",
        "            genres_dataset_dict[dataset_genre] = 1 \n",
        "    return genres_dataset_dict  "
      ],
      "execution_count": 0,
      "outputs": []
    },
    {
      "metadata": {
        "id": "Aw-Vopij-4Gw",
        "colab_type": "code",
        "colab": {}
      },
      "cell_type": "code",
      "source": [
        "def display_table(dataset, index):\n",
        "    table = freq_table(dataset, index)\n",
        "    table_display = []\n",
        "    for key in table:\n",
        "        key_val_as_tuple = (table[key], key)\n",
        "        table_display.append(key_val_as_tuple)\n",
        "\n",
        "    table_sorted = sorted(table_display, reverse = True)\n",
        "    for entry in table_sorted:\n",
        "        print(entry[1], ':', entry[0])"
      ],
      "execution_count": 0,
      "outputs": []
    },
    {
      "metadata": {
        "id": "3EwsfX5Tapc_",
        "colab_type": "text"
      },
      "cell_type": "markdown",
      "source": [
        "Agora, analisamos os gêneros mais comuns dos aplicativos da Apple Store:"
      ]
    },
    {
      "metadata": {
        "id": "mmEUmolCSYe8",
        "colab_type": "code",
        "outputId": "29587b51-cee4-42c9-b5ad-f546a06edc0b",
        "colab": {
          "base_uri": "https://localhost:8080/",
          "height": 451
        }
      },
      "cell_type": "code",
      "source": [
        "display_table (free_apps_apple, 11)"
      ],
      "execution_count": 0,
      "outputs": [
        {
          "output_type": "stream",
          "text": [
            "Games : 1866\n",
            "Entertainment : 251\n",
            "Photo & Video : 160\n",
            "Education : 118\n",
            "Social Networking : 106\n",
            "Shopping : 83\n",
            "Utilities : 79\n",
            "Sports : 69\n",
            "Music : 66\n",
            "Health & Fitness : 65\n",
            "Productivity : 56\n",
            "Lifestyle : 50\n",
            "News : 43\n",
            "Travel : 40\n",
            "Finance : 35\n",
            "Weather : 28\n",
            "Food & Drink : 26\n",
            "Reference : 17\n",
            "Business : 17\n",
            "Book : 12\n",
            "Navigation : 6\n",
            "Medical : 6\n",
            "Catalogs : 4\n"
          ],
          "name": "stdout"
        }
      ]
    },
    {
      "metadata": {
        "id": "HKuKkPFovZCf",
        "colab_type": "text"
      },
      "cell_type": "markdown",
      "source": [
        "\n",
        "Analisando a tabela de frequência gerada para a coluna **prime_genre** do conjunto de dados da Apple Store, concluímos que  o gênero mais comum é o de **Games** e o segundo mais comum é o de **Entertainment**, com isso, é perceptível que o padrão de busca dos usuários é focado em aplicativos voltados para o lazer, a diversão, o descanso, mas também para o conhecimento (educação) e, por isso, têm-se mais aplicativos projetados para a diversão do usuário. Além disso, não é possível recomendar um perfil de aplicativo para o mercado da Apple Store se baseando apenas por esta tabela de frequência, devido ao fato de que nem todos os aplicativos de determinado gênero têm um grande número de usuário, pois ele pode não agradar os usuários.\n"
      ]
    },
    {
      "metadata": {
        "id": "uM6vl3k0a5mo",
        "colab_type": "text"
      },
      "cell_type": "markdown",
      "source": [
        "Agora, os gêneros dos aplicativos do Google Play que se encontram na coluna ''**Category**'':"
      ]
    },
    {
      "metadata": {
        "id": "eju7fnwya6On",
        "colab_type": "code",
        "outputId": "51e279f0-a60a-4565-f293-d5e9a6d96268",
        "colab": {
          "base_uri": "https://localhost:8080/",
          "height": 631
        }
      },
      "cell_type": "code",
      "source": [
        "display_table (free_apps_google, 1)"
      ],
      "execution_count": 0,
      "outputs": [
        {
          "output_type": "stream",
          "text": [
            "FAMILY : 1676\n",
            "GAME : 858\n",
            "TOOLS : 748\n",
            "BUSINESS : 407\n",
            "PRODUCTIVITY : 345\n",
            "LIFESTYLE : 344\n",
            "FINANCE : 328\n",
            "MEDICAL : 310\n",
            "SPORTS : 300\n",
            "PERSONALIZATION : 294\n",
            "COMMUNICATION : 286\n",
            "HEALTH_AND_FITNESS : 273\n",
            "PHOTOGRAPHY : 261\n",
            "NEWS_AND_MAGAZINES : 248\n",
            "SOCIAL : 236\n",
            "TRAVEL_AND_LOCAL : 207\n",
            "SHOPPING : 199\n",
            "BOOKS_AND_REFERENCE : 189\n",
            "DATING : 165\n",
            "VIDEO_PLAYERS : 159\n",
            "MAPS_AND_NAVIGATION : 123\n",
            "FOOD_AND_DRINK : 110\n",
            "EDUCATION : 103\n",
            "ENTERTAINMENT : 85\n",
            "LIBRARIES_AND_DEMO : 83\n",
            "AUTO_AND_VEHICLES : 82\n",
            "HOUSE_AND_HOME : 71\n",
            "WEATHER : 70\n",
            "EVENTS : 63\n",
            "PARENTING : 58\n",
            "ART_AND_DESIGN : 57\n",
            "COMICS : 54\n",
            "BEAUTY : 53\n"
          ],
          "name": "stdout"
        }
      ]
    },
    {
      "metadata": {
        "id": "dT4Vz_ZXbPzQ",
        "colab_type": "text"
      },
      "cell_type": "markdown",
      "source": [
        "Também do Google Play, mas os que se encontram na coluna ''**Genres**\":"
      ]
    },
    {
      "metadata": {
        "id": "L4VDu8STbkfW",
        "colab_type": "code",
        "outputId": "432ddf77-3498-42e1-be1b-57de5a1e8faf",
        "colab": {
          "base_uri": "https://localhost:8080/",
          "height": 2089
        }
      },
      "cell_type": "code",
      "source": [
        "display_table (free_apps_google, 9)"
      ],
      "execution_count": 0,
      "outputs": [
        {
          "output_type": "stream",
          "text": [
            "Tools : 747\n",
            "Entertainment : 538\n",
            "Education : 474\n",
            "Business : 407\n",
            "Productivity : 345\n",
            "Lifestyle : 343\n",
            "Finance : 328\n",
            "Medical : 310\n",
            "Sports : 306\n",
            "Personalization : 294\n",
            "Communication : 286\n",
            "Action : 274\n",
            "Health & Fitness : 273\n",
            "Photography : 261\n",
            "News & Magazines : 248\n",
            "Social : 236\n",
            "Travel & Local : 206\n",
            "Shopping : 199\n",
            "Books & Reference : 189\n",
            "Simulation : 181\n",
            "Dating : 165\n",
            "Arcade : 163\n",
            "Video Players & Editors : 157\n",
            "Casual : 156\n",
            "Maps & Navigation : 123\n",
            "Food & Drink : 110\n",
            "Puzzle : 100\n",
            "Racing : 88\n",
            "Role Playing : 83\n",
            "Libraries & Demo : 83\n",
            "Auto & Vehicles : 82\n",
            "Strategy : 81\n",
            "House & Home : 71\n",
            "Weather : 70\n",
            "Events : 63\n",
            "Adventure : 59\n",
            "Comics : 53\n",
            "Beauty : 53\n",
            "Art & Design : 53\n",
            "Parenting : 44\n",
            "Card : 40\n",
            "Trivia : 37\n",
            "Casino : 37\n",
            "Educational;Education : 35\n",
            "Board : 34\n",
            "Educational : 33\n",
            "Education;Education : 30\n",
            "Word : 23\n",
            "Casual;Pretend Play : 21\n",
            "Music : 18\n",
            "Racing;Action & Adventure : 15\n",
            "Puzzle;Brain Games : 15\n",
            "Entertainment;Music & Video : 15\n",
            "Casual;Brain Games : 12\n",
            "Casual;Action & Adventure : 12\n",
            "Arcade;Action & Adventure : 11\n",
            "Action;Action & Adventure : 9\n",
            "Educational;Pretend Play : 8\n",
            "Simulation;Action & Adventure : 7\n",
            "Parenting;Education : 7\n",
            "Entertainment;Brain Games : 7\n",
            "Board;Brain Games : 7\n",
            "Parenting;Music & Video : 6\n",
            "Educational;Brain Games : 6\n",
            "Casual;Creativity : 6\n",
            "Art & Design;Creativity : 6\n",
            "Education;Pretend Play : 5\n",
            "Role Playing;Pretend Play : 4\n",
            "Education;Creativity : 4\n",
            "Role Playing;Action & Adventure : 3\n",
            "Puzzle;Action & Adventure : 3\n",
            "Entertainment;Creativity : 3\n",
            "Entertainment;Action & Adventure : 3\n",
            "Educational;Creativity : 3\n",
            "Educational;Action & Adventure : 3\n",
            "Education;Music & Video : 3\n",
            "Education;Brain Games : 3\n",
            "Education;Action & Adventure : 3\n",
            "Adventure;Action & Adventure : 3\n",
            "Video Players & Editors;Music & Video : 2\n",
            "Sports;Action & Adventure : 2\n",
            "Simulation;Pretend Play : 2\n",
            "Puzzle;Creativity : 2\n",
            "Music;Music & Video : 2\n",
            "Entertainment;Pretend Play : 2\n",
            "Casual;Education : 2\n",
            "Board;Action & Adventure : 2\n",
            "Video Players & Editors;Creativity : 1\n",
            "Trivia;Education : 1\n",
            "Travel & Local;Action & Adventure : 1\n",
            "Tools;Education : 1\n",
            "Strategy;Education : 1\n",
            "Strategy;Creativity : 1\n",
            "Strategy;Action & Adventure : 1\n",
            "Simulation;Education : 1\n",
            "Role Playing;Brain Games : 1\n",
            "Racing;Pretend Play : 1\n",
            "Puzzle;Education : 1\n",
            "Parenting;Brain Games : 1\n",
            "Music & Audio;Music & Video : 1\n",
            "Lifestyle;Pretend Play : 1\n",
            "Lifestyle;Education : 1\n",
            "Health & Fitness;Education : 1\n",
            "Health & Fitness;Action & Adventure : 1\n",
            "Entertainment;Education : 1\n",
            "Communication;Creativity : 1\n",
            "Comics;Creativity : 1\n",
            "Casual;Music & Video : 1\n",
            "Card;Action & Adventure : 1\n",
            "Books & Reference;Education : 1\n",
            "Art & Design;Pretend Play : 1\n",
            "Art & Design;Action & Adventure : 1\n",
            "Arcade;Pretend Play : 1\n",
            "Adventure;Education : 1\n"
          ],
          "name": "stdout"
        }
      ]
    },
    {
      "metadata": {
        "id": "if2fUsF-iv6L",
        "colab_type": "text"
      },
      "cell_type": "markdown",
      "source": [
        "Ao analisar as tabelas de frequência geradas para as colunas **Genre** e **Category** do conjunto de dados do Google Play, concluímos que os gêneros mais comuns são, respectivamente, **Tools** e **Family**. Ademais, é notório que o padrão de busca dos usuários é bem variado, pois é dividida tanto para a diversão quanto para a fins práticos, diferentemente dos usuários da Apple Store, que buscam por mais  aplicativos divertidos. Baseando-se no que vimos até agora, não é possível recomendar um perfil de aplicativo, pois nem todos os aplicativos de determinado gênero atraem os usuários. Pelas tabelas de frequência geradas, é possível saber quais são os gêneros de aplicativos mais comuns e quais deles possuem mais usuários de cada coluna, porém, para ter uma visão geral, deve-se analisar as duas colunas em conjunto."
      ]
    },
    {
      "metadata": {
        "id": "BZStB7fe-Mlc",
        "colab_type": "text"
      },
      "cell_type": "markdown",
      "source": [
        "##Aplicativos mais populares por gênero da Apple Store"
      ]
    },
    {
      "metadata": {
        "id": "oQ7hBjt7CrgW",
        "colab_type": "text"
      },
      "cell_type": "markdown",
      "source": [
        "Nos códigos abaixo, iremos calcular o número médio de classificações de usuários por gênero de aplicativo da Apple Store, para isso, criamos um dicionário, nas quais temos as chaves representando os gêneros e os números representando as médias."
      ]
    },
    {
      "metadata": {
        "id": "AC4xVjDBkmFv",
        "colab_type": "code",
        "colab": {}
      },
      "cell_type": "code",
      "source": [
        "genres_apple_dict = {}\n",
        "for app in free_apps_apple:\n",
        "    genre_apple = app[11]\n",
        "    if genre_apple in genres_apple_dict:\n",
        "        genres_apple_dict[genre_apple] += 1\n",
        "    else:\n",
        "        genres_apple_dict[genre_apple] = 1"
      ],
      "execution_count": 0,
      "outputs": []
    },
    {
      "metadata": {
        "id": "9W_jkN42wg2c",
        "colab_type": "code",
        "colab": {}
      },
      "cell_type": "code",
      "source": [
        "rating_count_tot_dict =  {}\n",
        "for app in free_apps_apple:\n",
        "  rating_count_tot = app[11]\n",
        "  if rating_count_tot in rating_count_tot_dict:\n",
        "    rating_count_tot_dict[rating_count_tot] += int(app[5])\n",
        "  else:\n",
        "    rating_count_tot_dict[rating_count_tot] = int(app[5])\n",
        "for app in rating_count_tot_dict:\n",
        "  rating_count_tot_dict[app] = rating_count_tot_dict[app] / genres_apple_dict[app]"
      ],
      "execution_count": 0,
      "outputs": []
    },
    {
      "metadata": {
        "id": "aA3e99z2D3gB",
        "colab_type": "text"
      },
      "cell_type": "markdown",
      "source": [
        "Em seguida, transformamos o dicionário criado acima em uma lista de tuplas e os reorganizamos pelo valor da média:"
      ]
    },
    {
      "metadata": {
        "id": "o8O8qQ2g5B15",
        "colab_type": "code",
        "colab": {}
      },
      "cell_type": "code",
      "source": [
        "rating_count_tot_tuples = []\n",
        "for app in rating_count_tot_dict:\n",
        "  tuples = (rating_count_tot_dict[app], app)\n",
        "  rating_count_tot_tuples.append(tuples)"
      ],
      "execution_count": 0,
      "outputs": []
    },
    {
      "metadata": {
        "id": "ZIooqwLC8nZR",
        "colab_type": "code",
        "outputId": "a4bfba9d-e360-43a3-ec17-3b65016d14f5",
        "colab": {
          "base_uri": "https://localhost:8080/",
          "height": 451
        }
      },
      "cell_type": "code",
      "source": [
        "rating_count_tot_tuples = sorted(rating_count_tot_tuples, reverse = True)\n",
        "for app in rating_count_tot_tuples:\n",
        "  print(app)"
      ],
      "execution_count": 0,
      "outputs": [
        {
          "output_type": "stream",
          "text": [
            "(86090.33333333333, 'Navigation')\n",
            "(79350.4705882353, 'Reference')\n",
            "(71548.34905660378, 'Social Networking')\n",
            "(57326.530303030304, 'Music')\n",
            "(52279.892857142855, 'Weather')\n",
            "(46384.916666666664, 'Book')\n",
            "(33333.92307692308, 'Food & Drink')\n",
            "(32367.02857142857, 'Finance')\n",
            "(28441.54375, 'Photo & Video')\n",
            "(28243.8, 'Travel')\n",
            "(27230.734939759037, 'Shopping')\n",
            "(23298.015384615384, 'Health & Fitness')\n",
            "(23008.898550724636, 'Sports')\n",
            "(22886.36709539121, 'Games')\n",
            "(21248.023255813954, 'News')\n",
            "(21028.410714285714, 'Productivity')\n",
            "(19156.493670886077, 'Utilities')\n",
            "(16815.48, 'Lifestyle')\n",
            "(14195.358565737051, 'Entertainment')\n",
            "(7491.117647058823, 'Business')\n",
            "(7003.983050847458, 'Education')\n",
            "(4004.0, 'Catalogs')\n",
            "(612.0, 'Medical')\n"
          ],
          "name": "stdout"
        }
      ]
    },
    {
      "metadata": {
        "id": "XifhJreQETVa",
        "colab_type": "text"
      },
      "cell_type": "markdown",
      "source": [
        "Ao analisar os resultados, chegamos à conclusão de que um perfil de aplicativo indicado para a Apple Store seria os de navegação, que ajudam o usuário a melhor transitar pela cidade ou em outros locais, além de ajudá-lo a não se perder em um local desconhecido."
      ]
    },
    {
      "metadata": {
        "id": "y4JmVPR2q2-I",
        "colab_type": "text"
      },
      "cell_type": "markdown",
      "source": [
        "## Aplicativos mais populares por gênero do Google Play"
      ]
    },
    {
      "metadata": {
        "id": "oHzqLG7BCEOA",
        "colab_type": "text"
      },
      "cell_type": "markdown",
      "source": [
        "Nos códigos abaixo, iremos calcular o número médio de classificações de usuários por gênero de aplicativo do Google Play, para isso, novamente, criamos um dicionário, nas quais temos as chaves representando os gêneros e os números representando as médias."
      ]
    },
    {
      "metadata": {
        "id": "pCQdk58bq_00",
        "colab_type": "code",
        "colab": {}
      },
      "cell_type": "code",
      "source": [
        "genres_google_dict = {}\n",
        "for app in free_apps_google:\n",
        "    genre_google = app[1]\n",
        "    if genre_google in genres_google_dict:\n",
        "        genres_google_dict[genre_google] += 1\n",
        "    else:\n",
        "        genres_google_dict[genre_google] = 1"
      ],
      "execution_count": 0,
      "outputs": []
    },
    {
      "metadata": {
        "id": "gjMG6TwQrCJK",
        "colab_type": "code",
        "colab": {}
      },
      "cell_type": "code",
      "source": [
        "Installs_dict =  {}\n",
        "for app in free_apps_google:\n",
        "  Installs = app[1]\n",
        "  app[5] = app[5].replace('+', '')\n",
        "  app[5] = app[5].replace(',', '')\n",
        "  if Installs in Installs_dict:\n",
        "    Installs_dict[Installs] += int(app[5])\n",
        "  else:\n",
        "    Installs_dict[Installs] = int(app[5])\n",
        "for app in Installs_dict:\n",
        "  Installs_dict[app] = Installs_dict[app] / genres_google_dict[app]"
      ],
      "execution_count": 0,
      "outputs": []
    },
    {
      "metadata": {
        "id": "0iPaKGWOFhor",
        "colab_type": "text"
      },
      "cell_type": "markdown",
      "source": [
        "Assim como fizemos no tópico anterior, para os aplicativos da Apple Store, transformamos o dicionário acima em uma lista de tuplas e os reorganizamos pelo valor da média:"
      ]
    },
    {
      "metadata": {
        "id": "mDfCfpaR_IYJ",
        "colab_type": "code",
        "colab": {}
      },
      "cell_type": "code",
      "source": [
        "Installs_tuples = []\n",
        "for app in rating_count_tot_dict:\n",
        "  tuples = (rating_count_tot_dict[app], app)\n",
        "  Installs_tuples.append(tuples)"
      ],
      "execution_count": 0,
      "outputs": []
    },
    {
      "metadata": {
        "id": "gIsICy57_Qid",
        "colab_type": "code",
        "outputId": "161a7351-2729-4a0f-b457-b24ecb910f9a",
        "colab": {
          "base_uri": "https://localhost:8080/",
          "height": 431
        }
      },
      "cell_type": "code",
      "source": [
        "Installs_tuples = sorted(Installs_tuples, reverse = True)\n",
        "for app in Installs_tuples:\n",
        "  print(app)"
      ],
      "execution_count": 0,
      "outputs": [
        {
          "output_type": "stream",
          "text": [
            "(86090.33333333333, 'Navigation')\n",
            "(79350.4705882353, 'Reference')\n",
            "(71548.34905660378, 'Social Networking')\n",
            "(57326.530303030304, 'Music')\n",
            "(52279.892857142855, 'Weather')\n",
            "(46384.916666666664, 'Book')\n",
            "(33333.92307692308, 'Food & Drink')\n",
            "(32367.02857142857, 'Finance')\n",
            "(28441.54375, 'Photo & Video')\n",
            "(28243.8, 'Travel')\n",
            "(27230.734939759037, 'Shopping')\n",
            "(23298.015384615384, 'Health & Fitness')\n",
            "(23008.898550724636, 'Sports')\n",
            "(22886.36709539121, 'Games')\n",
            "(21248.023255813954, 'News')\n",
            "(21028.410714285714, 'Productivity')\n",
            "(19156.493670886077, 'Utilities')\n",
            "(16815.48, 'Lifestyle')\n",
            "(14195.358565737051, 'Entertainment')\n",
            "(7491.117647058823, 'Business')\n",
            "(7003.983050847458, 'Education')\n",
            "(4004.0, 'Catalogs')\n",
            "(612.0, 'Medical')\n"
          ],
          "name": "stdout"
        }
      ]
    },
    {
      "metadata": {
        "id": "heCUaqnvF8Ja",
        "colab_type": "text"
      },
      "cell_type": "markdown",
      "source": [
        "Ao analisar os resultados, chegamos à conclusão de que um perfil de aplicativo indicado para Google Play também seria os de navegação, que ajudam o usuário a melhor transitar pela cidade ou em outros locais, além de ajudá-lo a não se perder em um local desconhecido."
      ]
    }
  ]
}